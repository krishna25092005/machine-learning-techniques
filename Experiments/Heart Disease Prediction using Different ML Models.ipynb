{
 "cells": [
  {
   "cell_type": "markdown",
   "id": "d0b4d586-1c17-498e-a9f3-8e79ba19faf4",
   "metadata": {},
   "source": [
    "<h1 style=\"color: hotpink; text-align: center;\">\n",
    "    <b>Heart Disease Prediction and Exploratory Data Analysis Using Different Machine Learning Models</b>\n",
    "</h1>\n",
    "<hr>"
   ]
  },
  {
   "cell_type": "markdown",
   "id": "6c9595cd",
   "metadata": {
    "papermill": {
     "duration": 0.018858,
     "end_time": "2023-05-21T14:07:52.744935",
     "exception": false,
     "start_time": "2023-05-21T14:07:52.726077",
     "status": "completed"
    },
    "tags": []
   },
   "source": [
    "# <b> Table of Contents : <b>\n",
    "* [Introduction](#section-one)\n",
    "* [Importing Libraries](#section-two)\n",
    "* [Data Exploration](#section-three)\n",
    "* [Model Training and Evaluation](#section-four)\n"
   ]
  },
  {
   "cell_type": "markdown",
   "id": "cb1740dc",
   "metadata": {
    "papermill": {
     "duration": 0.015609,
     "end_time": "2023-05-21T14:07:52.778482",
     "exception": false,
     "start_time": "2023-05-21T14:07:52.762873",
     "status": "completed"
    },
    "tags": []
   },
   "source": [
    "<a id=\"section-one\"></a>\n",
    "<div style=\"padding:15px;color:white;\n",
    "            margin:0;font-size:250%;\n",
    "            text-align:left;display:fill;\n",
    "            border-radius:0px;background-color:#1167b1;\n",
    "            overflow:hidden;font-weight:600;\n",
    "            font-family: Trebuchet MS\">Introduction </div>\n"
   ]
  },
  {
   "cell_type": "markdown",
   "id": "c036dffd",
   "metadata": {
    "papermill": {
     "duration": 0.01255,
     "end_time": "2023-05-21T14:07:52.804950",
     "exception": false,
     "start_time": "2023-05-21T14:07:52.792400",
     "status": "completed"
    },
    "tags": []
   },
   "source": [
    "<div style=\"padding:10px;color:black;\n",
    "            margin:0;font-size:120%;\n",
    "            text-align:justify;display:fill;\n",
    "            border-radius:0px;background-color:#f2f2f2;\n",
    "            overflow:hidden; font-weight:600; font-family: Georgia\"> Cardiovascular disease, including heart attack, is a major cause of morbidity and mortality worldwide. Early detection and intervention are critical for preventing heart disease and reducing the risk of heart attack. One approach to identifying individuals at high risk of heart attack is to develop predictive models using clinical and demographic data.\n",
    "\n",
    "In this notebook, we will explore a dataset containing information about patients with suspected heart disease. The dataset includes 14 attributes, including:\n",
    "    <ol>\n",
    "        <li>age</li>\n",
    "        <li>sex</li>\n",
    "        <li>chest pain type (4 values)</li>\n",
    "        <li>resting blood pressure</li>\n",
    "        <li>serum cholestoral in mg/dl</li>\n",
    "        <li>fasting blood sugar > 120 mg/dl</li>\n",
    "        <li>resting electrocardiographic results (values 0,1,2)</li>\n",
    "        <li>maximum heart rate achieved</li>\n",
    "        <li>exercise induced angina</li>\n",
    "        <li>oldpeak = ST depression induced by exercise relative to rest</li>\n",
    "        <li>the slope of the peak exercise ST segment</li>\n",
    "        <li>number of major vessels (0-3) colored by flourosopy</li>\n",
    "        <li>thalassemia: 0 = normal; 1 = fixed defect; 2 = reversable defect</li>    \n",
    "    </ol>\n",
    "</div>\n",
    "<div style=\"padding:10px;color:black;\n",
    "            margin:0;font-size:120%;\n",
    "            text-align:justify;display:fill;\n",
    "            border-radius:0px;background-color:#f2f2f2;\n",
    "            overflow:hidden; font-weight:600; font-family: Georgia\">The \"target\" field refers to the presence of heart disease in the patient. It is integer valued 0=no disease and 1=disease.\n",
    "In this notebook I will use different Classification models for prediction. \n",
    " </div>\n"
   ]
  },
  {
   "cell_type": "markdown",
   "id": "2cdef20f",
   "metadata": {
    "papermill": {
     "duration": 0.012288,
     "end_time": "2023-05-21T14:07:52.830030",
     "exception": false,
     "start_time": "2023-05-21T14:07:52.817742",
     "status": "completed"
    },
    "tags": []
   },
   "source": [
    "<a id=\"section-two\"></a>\n",
    "<div style=\"padding:15px;color:white;\n",
    "            margin:0;font-size:250%;\n",
    "            text-align:left;display:fill;\n",
    "            border-radius:0px;background-color:#1167b1;\n",
    "            overflow:hidden;font-weight:600;\n",
    "            font-family: Trebuchet MS\">Importing Libraries </div>\n"
   ]
  },
  {
   "cell_type": "code",
   "execution_count": 31,
   "id": "f4e78896",
   "metadata": {
    "papermill": {
     "duration": 32.234226,
     "end_time": "2023-05-21T14:08:25.076802",
     "exception": false,
     "start_time": "2023-05-21T14:07:52.842576",
     "status": "completed"
    },
    "tags": []
   },
   "outputs": [],
   "source": [
    "#Import necessary libraries\n",
    "import pandas as pd\n",
    "import numpy as np\n",
    "import seaborn as sns\n",
    "import matplotlib.pyplot as plt\n",
    "%matplotlib inline \n",
    "import sweetviz as sv\n",
    "\n",
    "#Import the necessary libraries for data splitting and modeling\n",
    "from sklearn.preprocessing import StandardScaler\n",
    "from sklearn.model_selection import train_test_split, cross_val_score\n",
    "from sklearn.metrics import confusion_matrix,accuracy_score,roc_curve,classification_report\n",
    "from sklearn.linear_model import LogisticRegression\n",
    "from sklearn.naive_bayes import GaussianNB\n",
    "from sklearn.ensemble import RandomForestClassifier\n",
    "from sklearn.tree import DecisionTreeClassifier\n",
    "from sklearn.neighbors import KNeighborsClassifier\n",
    "from sklearn.naive_bayes import GaussianNB\n",
    "from sklearn.svm import SVC\n",
    "\n",
    "#Ignore warnings\n",
    "import warnings\n",
    "warnings.filterwarnings('ignore')"
   ]
  },
  {
   "cell_type": "markdown",
   "id": "22edba4e",
   "metadata": {
    "papermill": {
     "duration": 0.01451,
     "end_time": "2023-05-21T14:08:25.106523",
     "exception": false,
     "start_time": "2023-05-21T14:08:25.092013",
     "status": "completed"
    },
    "tags": []
   },
   "source": [
    "<a id=\"section-three\"></a>\n",
    "<div style=\"padding:15px;color:white;\n",
    "            margin:0;font-size:250%;\n",
    "            text-align:left;display:fill;\n",
    "            border-radius:0px;background-color:#1167b1;\n",
    "            overflow:hidden;font-weight:600;\n",
    "            font-family: Trebuchet MS\">Data Exploration </div>"
   ]
  },
  {
   "cell_type": "code",
   "execution_count": 33,
   "id": "bd88b9a8",
   "metadata": {
    "papermill": {
     "duration": 0.038037,
     "end_time": "2023-05-21T14:08:25.159286",
     "exception": false,
     "start_time": "2023-05-21T14:08:25.121249",
     "status": "completed"
    },
    "tags": []
   },
   "outputs": [],
   "source": [
    "patient_data = pd.read_csv('heart_disease.csv')"
   ]
  },
  {
   "cell_type": "code",
   "execution_count": 34,
   "id": "1a86f134",
   "metadata": {
    "papermill": {
     "duration": 0.026262,
     "end_time": "2023-05-21T14:08:25.200476",
     "exception": false,
     "start_time": "2023-05-21T14:08:25.174214",
     "status": "completed"
    },
    "tags": []
   },
   "outputs": [
    {
     "data": {
      "text/plain": [
       "(1025, 14)"
      ]
     },
     "execution_count": 34,
     "metadata": {},
     "output_type": "execute_result"
    }
   ],
   "source": [
    "patient_data.shape"
   ]
  },
  {
   "cell_type": "code",
   "execution_count": 35,
   "id": "df002b0a",
   "metadata": {
    "papermill": {
     "duration": 0.047118,
     "end_time": "2023-05-21T14:08:25.262369",
     "exception": false,
     "start_time": "2023-05-21T14:08:25.215251",
     "status": "completed"
    },
    "tags": []
   },
   "outputs": [
    {
     "name": "stdout",
     "output_type": "stream",
     "text": [
      "<class 'pandas.core.frame.DataFrame'>\n",
      "RangeIndex: 1025 entries, 0 to 1024\n",
      "Data columns (total 14 columns):\n",
      " #   Column    Non-Null Count  Dtype  \n",
      "---  ------    --------------  -----  \n",
      " 0   age       1025 non-null   int64  \n",
      " 1   sex       1025 non-null   int64  \n",
      " 2   cp        1025 non-null   int64  \n",
      " 3   trestbps  1025 non-null   int64  \n",
      " 4   chol      1025 non-null   int64  \n",
      " 5   fbs       1025 non-null   int64  \n",
      " 6   restecg   1025 non-null   int64  \n",
      " 7   thalach   1025 non-null   int64  \n",
      " 8   exang     1025 non-null   int64  \n",
      " 9   oldpeak   1025 non-null   float64\n",
      " 10  slope     1025 non-null   int64  \n",
      " 11  ca        1025 non-null   int64  \n",
      " 12  thal      1025 non-null   int64  \n",
      " 13  target    1025 non-null   int64  \n",
      "dtypes: float64(1), int64(13)\n",
      "memory usage: 112.2 KB\n"
     ]
    }
   ],
   "source": [
    "patient_data.info()"
   ]
  },
  {
   "cell_type": "code",
   "execution_count": 36,
   "id": "db2b6c34",
   "metadata": {
    "papermill": {
     "duration": 0.047337,
     "end_time": "2023-05-21T14:08:25.324641",
     "exception": false,
     "start_time": "2023-05-21T14:08:25.277304",
     "status": "completed"
    },
    "tags": []
   },
   "outputs": [
    {
     "data": {
      "text/html": [
       "<div>\n",
       "<style scoped>\n",
       "    .dataframe tbody tr th:only-of-type {\n",
       "        vertical-align: middle;\n",
       "    }\n",
       "\n",
       "    .dataframe tbody tr th {\n",
       "        vertical-align: top;\n",
       "    }\n",
       "\n",
       "    .dataframe thead th {\n",
       "        text-align: right;\n",
       "    }\n",
       "</style>\n",
       "<table border=\"1\" class=\"dataframe\">\n",
       "  <thead>\n",
       "    <tr style=\"text-align: right;\">\n",
       "      <th></th>\n",
       "      <th>age</th>\n",
       "      <th>sex</th>\n",
       "      <th>cp</th>\n",
       "      <th>trestbps</th>\n",
       "      <th>chol</th>\n",
       "      <th>fbs</th>\n",
       "      <th>restecg</th>\n",
       "      <th>thalach</th>\n",
       "      <th>exang</th>\n",
       "      <th>oldpeak</th>\n",
       "      <th>slope</th>\n",
       "      <th>ca</th>\n",
       "      <th>thal</th>\n",
       "      <th>target</th>\n",
       "    </tr>\n",
       "  </thead>\n",
       "  <tbody>\n",
       "    <tr>\n",
       "      <th>0</th>\n",
       "      <td>52</td>\n",
       "      <td>1</td>\n",
       "      <td>0</td>\n",
       "      <td>125</td>\n",
       "      <td>212</td>\n",
       "      <td>0</td>\n",
       "      <td>1</td>\n",
       "      <td>168</td>\n",
       "      <td>0</td>\n",
       "      <td>1.0</td>\n",
       "      <td>2</td>\n",
       "      <td>2</td>\n",
       "      <td>3</td>\n",
       "      <td>0</td>\n",
       "    </tr>\n",
       "    <tr>\n",
       "      <th>1</th>\n",
       "      <td>53</td>\n",
       "      <td>1</td>\n",
       "      <td>0</td>\n",
       "      <td>140</td>\n",
       "      <td>203</td>\n",
       "      <td>1</td>\n",
       "      <td>0</td>\n",
       "      <td>155</td>\n",
       "      <td>1</td>\n",
       "      <td>3.1</td>\n",
       "      <td>0</td>\n",
       "      <td>0</td>\n",
       "      <td>3</td>\n",
       "      <td>0</td>\n",
       "    </tr>\n",
       "    <tr>\n",
       "      <th>2</th>\n",
       "      <td>70</td>\n",
       "      <td>1</td>\n",
       "      <td>0</td>\n",
       "      <td>145</td>\n",
       "      <td>174</td>\n",
       "      <td>0</td>\n",
       "      <td>1</td>\n",
       "      <td>125</td>\n",
       "      <td>1</td>\n",
       "      <td>2.6</td>\n",
       "      <td>0</td>\n",
       "      <td>0</td>\n",
       "      <td>3</td>\n",
       "      <td>0</td>\n",
       "    </tr>\n",
       "    <tr>\n",
       "      <th>3</th>\n",
       "      <td>61</td>\n",
       "      <td>1</td>\n",
       "      <td>0</td>\n",
       "      <td>148</td>\n",
       "      <td>203</td>\n",
       "      <td>0</td>\n",
       "      <td>1</td>\n",
       "      <td>161</td>\n",
       "      <td>0</td>\n",
       "      <td>0.0</td>\n",
       "      <td>2</td>\n",
       "      <td>1</td>\n",
       "      <td>3</td>\n",
       "      <td>0</td>\n",
       "    </tr>\n",
       "    <tr>\n",
       "      <th>4</th>\n",
       "      <td>62</td>\n",
       "      <td>0</td>\n",
       "      <td>0</td>\n",
       "      <td>138</td>\n",
       "      <td>294</td>\n",
       "      <td>1</td>\n",
       "      <td>1</td>\n",
       "      <td>106</td>\n",
       "      <td>0</td>\n",
       "      <td>1.9</td>\n",
       "      <td>1</td>\n",
       "      <td>3</td>\n",
       "      <td>2</td>\n",
       "      <td>0</td>\n",
       "    </tr>\n",
       "  </tbody>\n",
       "</table>\n",
       "</div>"
      ],
      "text/plain": [
       "   age  sex  cp  trestbps  chol  fbs  restecg  thalach  exang  oldpeak  slope  \\\n",
       "0   52    1   0       125   212    0        1      168      0      1.0      2   \n",
       "1   53    1   0       140   203    1        0      155      1      3.1      0   \n",
       "2   70    1   0       145   174    0        1      125      1      2.6      0   \n",
       "3   61    1   0       148   203    0        1      161      0      0.0      2   \n",
       "4   62    0   0       138   294    1        1      106      0      1.9      1   \n",
       "\n",
       "   ca  thal  target  \n",
       "0   2     3       0  \n",
       "1   0     3       0  \n",
       "2   0     3       0  \n",
       "3   1     3       0  \n",
       "4   3     2       0  "
      ]
     },
     "execution_count": 36,
     "metadata": {},
     "output_type": "execute_result"
    }
   ],
   "source": [
    "patient_data.head()"
   ]
  },
  {
   "cell_type": "code",
   "execution_count": 37,
   "id": "0b4d0a64",
   "metadata": {
    "papermill": {
     "duration": 0.034339,
     "end_time": "2023-05-21T14:08:25.374704",
     "exception": false,
     "start_time": "2023-05-21T14:08:25.340365",
     "status": "completed"
    },
    "tags": []
   },
   "outputs": [
    {
     "data": {
      "text/html": [
       "<div>\n",
       "<style scoped>\n",
       "    .dataframe tbody tr th:only-of-type {\n",
       "        vertical-align: middle;\n",
       "    }\n",
       "\n",
       "    .dataframe tbody tr th {\n",
       "        vertical-align: top;\n",
       "    }\n",
       "\n",
       "    .dataframe thead th {\n",
       "        text-align: right;\n",
       "    }\n",
       "</style>\n",
       "<table border=\"1\" class=\"dataframe\">\n",
       "  <thead>\n",
       "    <tr style=\"text-align: right;\">\n",
       "      <th></th>\n",
       "      <th>age</th>\n",
       "      <th>sex</th>\n",
       "      <th>cp</th>\n",
       "      <th>trestbps</th>\n",
       "      <th>chol</th>\n",
       "      <th>fbs</th>\n",
       "      <th>restecg</th>\n",
       "      <th>thalach</th>\n",
       "      <th>exang</th>\n",
       "      <th>oldpeak</th>\n",
       "      <th>slope</th>\n",
       "      <th>ca</th>\n",
       "      <th>thal</th>\n",
       "      <th>target</th>\n",
       "    </tr>\n",
       "  </thead>\n",
       "  <tbody>\n",
       "    <tr>\n",
       "      <th>1020</th>\n",
       "      <td>59</td>\n",
       "      <td>1</td>\n",
       "      <td>1</td>\n",
       "      <td>140</td>\n",
       "      <td>221</td>\n",
       "      <td>0</td>\n",
       "      <td>1</td>\n",
       "      <td>164</td>\n",
       "      <td>1</td>\n",
       "      <td>0.0</td>\n",
       "      <td>2</td>\n",
       "      <td>0</td>\n",
       "      <td>2</td>\n",
       "      <td>1</td>\n",
       "    </tr>\n",
       "    <tr>\n",
       "      <th>1021</th>\n",
       "      <td>60</td>\n",
       "      <td>1</td>\n",
       "      <td>0</td>\n",
       "      <td>125</td>\n",
       "      <td>258</td>\n",
       "      <td>0</td>\n",
       "      <td>0</td>\n",
       "      <td>141</td>\n",
       "      <td>1</td>\n",
       "      <td>2.8</td>\n",
       "      <td>1</td>\n",
       "      <td>1</td>\n",
       "      <td>3</td>\n",
       "      <td>0</td>\n",
       "    </tr>\n",
       "    <tr>\n",
       "      <th>1022</th>\n",
       "      <td>47</td>\n",
       "      <td>1</td>\n",
       "      <td>0</td>\n",
       "      <td>110</td>\n",
       "      <td>275</td>\n",
       "      <td>0</td>\n",
       "      <td>0</td>\n",
       "      <td>118</td>\n",
       "      <td>1</td>\n",
       "      <td>1.0</td>\n",
       "      <td>1</td>\n",
       "      <td>1</td>\n",
       "      <td>2</td>\n",
       "      <td>0</td>\n",
       "    </tr>\n",
       "    <tr>\n",
       "      <th>1023</th>\n",
       "      <td>50</td>\n",
       "      <td>0</td>\n",
       "      <td>0</td>\n",
       "      <td>110</td>\n",
       "      <td>254</td>\n",
       "      <td>0</td>\n",
       "      <td>0</td>\n",
       "      <td>159</td>\n",
       "      <td>0</td>\n",
       "      <td>0.0</td>\n",
       "      <td>2</td>\n",
       "      <td>0</td>\n",
       "      <td>2</td>\n",
       "      <td>1</td>\n",
       "    </tr>\n",
       "    <tr>\n",
       "      <th>1024</th>\n",
       "      <td>54</td>\n",
       "      <td>1</td>\n",
       "      <td>0</td>\n",
       "      <td>120</td>\n",
       "      <td>188</td>\n",
       "      <td>0</td>\n",
       "      <td>1</td>\n",
       "      <td>113</td>\n",
       "      <td>0</td>\n",
       "      <td>1.4</td>\n",
       "      <td>1</td>\n",
       "      <td>1</td>\n",
       "      <td>3</td>\n",
       "      <td>0</td>\n",
       "    </tr>\n",
       "  </tbody>\n",
       "</table>\n",
       "</div>"
      ],
      "text/plain": [
       "      age  sex  cp  trestbps  chol  fbs  restecg  thalach  exang  oldpeak  \\\n",
       "1020   59    1   1       140   221    0        1      164      1      0.0   \n",
       "1021   60    1   0       125   258    0        0      141      1      2.8   \n",
       "1022   47    1   0       110   275    0        0      118      1      1.0   \n",
       "1023   50    0   0       110   254    0        0      159      0      0.0   \n",
       "1024   54    1   0       120   188    0        1      113      0      1.4   \n",
       "\n",
       "      slope  ca  thal  target  \n",
       "1020      2   0     2       1  \n",
       "1021      1   1     3       0  \n",
       "1022      1   1     2       0  \n",
       "1023      2   0     2       1  \n",
       "1024      1   1     3       0  "
      ]
     },
     "execution_count": 37,
     "metadata": {},
     "output_type": "execute_result"
    }
   ],
   "source": [
    "patient_data.tail()"
   ]
  },
  {
   "cell_type": "code",
   "execution_count": 38,
   "id": "8bd9feb2",
   "metadata": {
    "papermill": {
     "duration": 0.084685,
     "end_time": "2023-05-21T14:08:25.474907",
     "exception": false,
     "start_time": "2023-05-21T14:08:25.390222",
     "status": "completed"
    },
    "tags": []
   },
   "outputs": [
    {
     "data": {
      "text/html": [
       "<div>\n",
       "<style scoped>\n",
       "    .dataframe tbody tr th:only-of-type {\n",
       "        vertical-align: middle;\n",
       "    }\n",
       "\n",
       "    .dataframe tbody tr th {\n",
       "        vertical-align: top;\n",
       "    }\n",
       "\n",
       "    .dataframe thead th {\n",
       "        text-align: right;\n",
       "    }\n",
       "</style>\n",
       "<table border=\"1\" class=\"dataframe\">\n",
       "  <thead>\n",
       "    <tr style=\"text-align: right;\">\n",
       "      <th></th>\n",
       "      <th>count</th>\n",
       "      <th>mean</th>\n",
       "      <th>std</th>\n",
       "      <th>min</th>\n",
       "      <th>25%</th>\n",
       "      <th>50%</th>\n",
       "      <th>75%</th>\n",
       "      <th>max</th>\n",
       "    </tr>\n",
       "  </thead>\n",
       "  <tbody>\n",
       "    <tr>\n",
       "      <th>age</th>\n",
       "      <td>1025.0</td>\n",
       "      <td>54.434146</td>\n",
       "      <td>9.072290</td>\n",
       "      <td>29.0</td>\n",
       "      <td>48.0</td>\n",
       "      <td>56.0</td>\n",
       "      <td>61.0</td>\n",
       "      <td>77.0</td>\n",
       "    </tr>\n",
       "    <tr>\n",
       "      <th>sex</th>\n",
       "      <td>1025.0</td>\n",
       "      <td>0.695610</td>\n",
       "      <td>0.460373</td>\n",
       "      <td>0.0</td>\n",
       "      <td>0.0</td>\n",
       "      <td>1.0</td>\n",
       "      <td>1.0</td>\n",
       "      <td>1.0</td>\n",
       "    </tr>\n",
       "    <tr>\n",
       "      <th>cp</th>\n",
       "      <td>1025.0</td>\n",
       "      <td>0.942439</td>\n",
       "      <td>1.029641</td>\n",
       "      <td>0.0</td>\n",
       "      <td>0.0</td>\n",
       "      <td>1.0</td>\n",
       "      <td>2.0</td>\n",
       "      <td>3.0</td>\n",
       "    </tr>\n",
       "    <tr>\n",
       "      <th>trestbps</th>\n",
       "      <td>1025.0</td>\n",
       "      <td>131.611707</td>\n",
       "      <td>17.516718</td>\n",
       "      <td>94.0</td>\n",
       "      <td>120.0</td>\n",
       "      <td>130.0</td>\n",
       "      <td>140.0</td>\n",
       "      <td>200.0</td>\n",
       "    </tr>\n",
       "    <tr>\n",
       "      <th>chol</th>\n",
       "      <td>1025.0</td>\n",
       "      <td>246.000000</td>\n",
       "      <td>51.592510</td>\n",
       "      <td>126.0</td>\n",
       "      <td>211.0</td>\n",
       "      <td>240.0</td>\n",
       "      <td>275.0</td>\n",
       "      <td>564.0</td>\n",
       "    </tr>\n",
       "    <tr>\n",
       "      <th>fbs</th>\n",
       "      <td>1025.0</td>\n",
       "      <td>0.149268</td>\n",
       "      <td>0.356527</td>\n",
       "      <td>0.0</td>\n",
       "      <td>0.0</td>\n",
       "      <td>0.0</td>\n",
       "      <td>0.0</td>\n",
       "      <td>1.0</td>\n",
       "    </tr>\n",
       "    <tr>\n",
       "      <th>restecg</th>\n",
       "      <td>1025.0</td>\n",
       "      <td>0.529756</td>\n",
       "      <td>0.527878</td>\n",
       "      <td>0.0</td>\n",
       "      <td>0.0</td>\n",
       "      <td>1.0</td>\n",
       "      <td>1.0</td>\n",
       "      <td>2.0</td>\n",
       "    </tr>\n",
       "    <tr>\n",
       "      <th>thalach</th>\n",
       "      <td>1025.0</td>\n",
       "      <td>149.114146</td>\n",
       "      <td>23.005724</td>\n",
       "      <td>71.0</td>\n",
       "      <td>132.0</td>\n",
       "      <td>152.0</td>\n",
       "      <td>166.0</td>\n",
       "      <td>202.0</td>\n",
       "    </tr>\n",
       "    <tr>\n",
       "      <th>exang</th>\n",
       "      <td>1025.0</td>\n",
       "      <td>0.336585</td>\n",
       "      <td>0.472772</td>\n",
       "      <td>0.0</td>\n",
       "      <td>0.0</td>\n",
       "      <td>0.0</td>\n",
       "      <td>1.0</td>\n",
       "      <td>1.0</td>\n",
       "    </tr>\n",
       "    <tr>\n",
       "      <th>oldpeak</th>\n",
       "      <td>1025.0</td>\n",
       "      <td>1.071512</td>\n",
       "      <td>1.175053</td>\n",
       "      <td>0.0</td>\n",
       "      <td>0.0</td>\n",
       "      <td>0.8</td>\n",
       "      <td>1.8</td>\n",
       "      <td>6.2</td>\n",
       "    </tr>\n",
       "    <tr>\n",
       "      <th>slope</th>\n",
       "      <td>1025.0</td>\n",
       "      <td>1.385366</td>\n",
       "      <td>0.617755</td>\n",
       "      <td>0.0</td>\n",
       "      <td>1.0</td>\n",
       "      <td>1.0</td>\n",
       "      <td>2.0</td>\n",
       "      <td>2.0</td>\n",
       "    </tr>\n",
       "    <tr>\n",
       "      <th>ca</th>\n",
       "      <td>1025.0</td>\n",
       "      <td>0.754146</td>\n",
       "      <td>1.030798</td>\n",
       "      <td>0.0</td>\n",
       "      <td>0.0</td>\n",
       "      <td>0.0</td>\n",
       "      <td>1.0</td>\n",
       "      <td>4.0</td>\n",
       "    </tr>\n",
       "    <tr>\n",
       "      <th>thal</th>\n",
       "      <td>1025.0</td>\n",
       "      <td>2.323902</td>\n",
       "      <td>0.620660</td>\n",
       "      <td>0.0</td>\n",
       "      <td>2.0</td>\n",
       "      <td>2.0</td>\n",
       "      <td>3.0</td>\n",
       "      <td>3.0</td>\n",
       "    </tr>\n",
       "    <tr>\n",
       "      <th>target</th>\n",
       "      <td>1025.0</td>\n",
       "      <td>0.513171</td>\n",
       "      <td>0.500070</td>\n",
       "      <td>0.0</td>\n",
       "      <td>0.0</td>\n",
       "      <td>1.0</td>\n",
       "      <td>1.0</td>\n",
       "      <td>1.0</td>\n",
       "    </tr>\n",
       "  </tbody>\n",
       "</table>\n",
       "</div>"
      ],
      "text/plain": [
       "           count        mean        std    min    25%    50%    75%    max\n",
       "age       1025.0   54.434146   9.072290   29.0   48.0   56.0   61.0   77.0\n",
       "sex       1025.0    0.695610   0.460373    0.0    0.0    1.0    1.0    1.0\n",
       "cp        1025.0    0.942439   1.029641    0.0    0.0    1.0    2.0    3.0\n",
       "trestbps  1025.0  131.611707  17.516718   94.0  120.0  130.0  140.0  200.0\n",
       "chol      1025.0  246.000000  51.592510  126.0  211.0  240.0  275.0  564.0\n",
       "fbs       1025.0    0.149268   0.356527    0.0    0.0    0.0    0.0    1.0\n",
       "restecg   1025.0    0.529756   0.527878    0.0    0.0    1.0    1.0    2.0\n",
       "thalach   1025.0  149.114146  23.005724   71.0  132.0  152.0  166.0  202.0\n",
       "exang     1025.0    0.336585   0.472772    0.0    0.0    0.0    1.0    1.0\n",
       "oldpeak   1025.0    1.071512   1.175053    0.0    0.0    0.8    1.8    6.2\n",
       "slope     1025.0    1.385366   0.617755    0.0    1.0    1.0    2.0    2.0\n",
       "ca        1025.0    0.754146   1.030798    0.0    0.0    0.0    1.0    4.0\n",
       "thal      1025.0    2.323902   0.620660    0.0    2.0    2.0    3.0    3.0\n",
       "target    1025.0    0.513171   0.500070    0.0    0.0    1.0    1.0    1.0"
      ]
     },
     "execution_count": 38,
     "metadata": {},
     "output_type": "execute_result"
    }
   ],
   "source": [
    "patient_data.describe().T"
   ]
  },
  {
   "cell_type": "code",
   "execution_count": 39,
   "id": "02a9c997",
   "metadata": {
    "papermill": {
     "duration": 0.539286,
     "end_time": "2023-05-21T14:08:26.030236",
     "exception": false,
     "start_time": "2023-05-21T14:08:25.490950",
     "status": "completed"
    },
    "tags": []
   },
   "outputs": [
    {
     "data": {
      "image/png": "[encoded data removed]",
      "text/plain": [
       "<Figure size 640x480 with 2 Axes>"
      ]
     },
     "metadata": {},
     "output_type": "display_data"
    }
   ],
   "source": [
    "# Create a correlation matrix using pandas\n",
    "corr_matrix = patient_data.corr()\n",
    "# Create a heatmap using seaborn\n",
    "sns.heatmap(corr_matrix, cmap='coolwarm')\n",
    "# Add labels to the plot\n",
    "plt.title('Correlation Matrix')\n",
    "# Show the plot\n",
    "plt.show()"
   ]
  },
  {
   "cell_type": "code",
   "execution_count": 40,
   "id": "51c05bac",
   "metadata": {
    "papermill": {
     "duration": 0.031217,
     "end_time": "2023-05-21T14:08:34.074328",
     "exception": false,
     "start_time": "2023-05-21T14:08:34.043111",
     "status": "completed"
    },
    "scrolled": true,
    "tags": []
   },
   "outputs": [
    {
     "data": {
      "text/plain": [
       "age         0\n",
       "sex         0\n",
       "cp          0\n",
       "trestbps    0\n",
       "chol        0\n",
       "fbs         0\n",
       "restecg     0\n",
       "thalach     0\n",
       "exang       0\n",
       "oldpeak     0\n",
       "slope       0\n",
       "ca          0\n",
       "thal        0\n",
       "target      0\n",
       "dtype: int64"
      ]
     },
     "execution_count": 40,
     "metadata": {},
     "output_type": "execute_result"
    }
   ],
   "source": [
    "patient_data.isnull().sum()"
   ]
  },
  {
   "cell_type": "code",
   "execution_count": 41,
   "id": "be1dec46",
   "metadata": {
    "papermill": {
     "duration": 0.029861,
     "end_time": "2023-05-21T14:08:34.122215",
     "exception": false,
     "start_time": "2023-05-21T14:08:34.092354",
     "status": "completed"
    },
    "tags": []
   },
   "outputs": [
    {
     "data": {
      "text/plain": [
       "723"
      ]
     },
     "execution_count": 41,
     "metadata": {},
     "output_type": "execute_result"
    }
   ],
   "source": [
    "patient_data.duplicated().sum()"
   ]
  },
  {
   "cell_type": "code",
   "execution_count": 42,
   "id": "8cc476ce",
   "metadata": {
    "papermill": {
     "duration": 0.029901,
     "end_time": "2023-05-21T14:08:34.169952",
     "exception": false,
     "start_time": "2023-05-21T14:08:34.140051",
     "status": "completed"
    },
    "tags": []
   },
   "outputs": [
    {
     "data": {
      "text/plain": [
       "target\n",
       "1    526\n",
       "0    499\n",
       "Name: count, dtype: int64"
      ]
     },
     "execution_count": 42,
     "metadata": {},
     "output_type": "execute_result"
    }
   ],
   "source": [
    "patient_data['target'].value_counts()"
   ]
  },
  {
   "cell_type": "markdown",
   "id": "616f5473",
   "metadata": {
    "papermill": {
     "duration": 0.017205,
     "end_time": "2023-05-21T14:08:34.204758",
     "exception": false,
     "start_time": "2023-05-21T14:08:34.187553",
     "status": "completed"
    },
    "tags": []
   },
   "source": [
    "<a id=\"section-one\"></a>\n",
    "<div style=\"padding:15px;color:white;\n",
    "            margin:0;font-size:300%;\n",
    "            text-align:left;display:fill;\n",
    "            border-radius:0px;background-color:#1167b1;\n",
    "            overflow:hidden;font-weight:600;\n",
    "            font-family: Trebuchet MS\">Data Preprocessing </div>"
   ]
  },
  {
   "cell_type": "code",
   "execution_count": 44,
   "id": "b4c06553",
   "metadata": {
    "papermill": {
     "duration": 0.027543,
     "end_time": "2023-05-21T14:08:34.249913",
     "exception": false,
     "start_time": "2023-05-21T14:08:34.222370",
     "status": "completed"
    },
    "tags": []
   },
   "outputs": [],
   "source": [
    "X_normal = patient_data.drop(\"target\", axis=1)\n",
    "Y = patient_data['target']"
   ]
  },
  {
   "cell_type": "code",
   "execution_count": 45,
   "id": "3481a6cb",
   "metadata": {
    "papermill": {
     "duration": 0.046204,
     "end_time": "2023-05-21T14:08:34.313733",
     "exception": false,
     "start_time": "2023-05-21T14:08:34.267529",
     "status": "completed"
    },
    "tags": []
   },
   "outputs": [
    {
     "data": {
      "text/html": [
       "<div>\n",
       "<style scoped>\n",
       "    .dataframe tbody tr th:only-of-type {\n",
       "        vertical-align: middle;\n",
       "    }\n",
       "\n",
       "    .dataframe tbody tr th {\n",
       "        vertical-align: top;\n",
       "    }\n",
       "\n",
       "    .dataframe thead th {\n",
       "        text-align: right;\n",
       "    }\n",
       "</style>\n",
       "<table border=\"1\" class=\"dataframe\">\n",
       "  <thead>\n",
       "    <tr style=\"text-align: right;\">\n",
       "      <th></th>\n",
       "      <th>age</th>\n",
       "      <th>sex</th>\n",
       "      <th>cp</th>\n",
       "      <th>trestbps</th>\n",
       "      <th>chol</th>\n",
       "      <th>fbs</th>\n",
       "      <th>restecg</th>\n",
       "      <th>thalach</th>\n",
       "      <th>exang</th>\n",
       "      <th>oldpeak</th>\n",
       "      <th>slope</th>\n",
       "      <th>ca</th>\n",
       "      <th>thal</th>\n",
       "    </tr>\n",
       "  </thead>\n",
       "  <tbody>\n",
       "    <tr>\n",
       "      <th>0</th>\n",
       "      <td>-0.268437</td>\n",
       "      <td>0.661504</td>\n",
       "      <td>-0.915755</td>\n",
       "      <td>-0.377636</td>\n",
       "      <td>-0.659332</td>\n",
       "      <td>-0.418878</td>\n",
       "      <td>0.891255</td>\n",
       "      <td>0.821321</td>\n",
       "      <td>-0.712287</td>\n",
       "      <td>-0.060888</td>\n",
       "      <td>0.995433</td>\n",
       "      <td>1.209221</td>\n",
       "      <td>1.089852</td>\n",
       "    </tr>\n",
       "    <tr>\n",
       "      <th>1</th>\n",
       "      <td>-0.158157</td>\n",
       "      <td>0.661504</td>\n",
       "      <td>-0.915755</td>\n",
       "      <td>0.479107</td>\n",
       "      <td>-0.833861</td>\n",
       "      <td>2.387330</td>\n",
       "      <td>-1.004049</td>\n",
       "      <td>0.255968</td>\n",
       "      <td>1.403928</td>\n",
       "      <td>1.727137</td>\n",
       "      <td>-2.243675</td>\n",
       "      <td>-0.731971</td>\n",
       "      <td>1.089852</td>\n",
       "    </tr>\n",
       "    <tr>\n",
       "      <th>2</th>\n",
       "      <td>1.716595</td>\n",
       "      <td>0.661504</td>\n",
       "      <td>-0.915755</td>\n",
       "      <td>0.764688</td>\n",
       "      <td>-1.396233</td>\n",
       "      <td>-0.418878</td>\n",
       "      <td>0.891255</td>\n",
       "      <td>-1.048692</td>\n",
       "      <td>1.403928</td>\n",
       "      <td>1.301417</td>\n",
       "      <td>-2.243675</td>\n",
       "      <td>-0.731971</td>\n",
       "      <td>1.089852</td>\n",
       "    </tr>\n",
       "    <tr>\n",
       "      <th>3</th>\n",
       "      <td>0.724079</td>\n",
       "      <td>0.661504</td>\n",
       "      <td>-0.915755</td>\n",
       "      <td>0.936037</td>\n",
       "      <td>-0.833861</td>\n",
       "      <td>-0.418878</td>\n",
       "      <td>0.891255</td>\n",
       "      <td>0.516900</td>\n",
       "      <td>-0.712287</td>\n",
       "      <td>-0.912329</td>\n",
       "      <td>0.995433</td>\n",
       "      <td>0.238625</td>\n",
       "      <td>1.089852</td>\n",
       "    </tr>\n",
       "    <tr>\n",
       "      <th>4</th>\n",
       "      <td>0.834359</td>\n",
       "      <td>-1.511706</td>\n",
       "      <td>-0.915755</td>\n",
       "      <td>0.364875</td>\n",
       "      <td>0.930822</td>\n",
       "      <td>2.387330</td>\n",
       "      <td>0.891255</td>\n",
       "      <td>-1.874977</td>\n",
       "      <td>-0.712287</td>\n",
       "      <td>0.705408</td>\n",
       "      <td>-0.624121</td>\n",
       "      <td>2.179817</td>\n",
       "      <td>-0.522122</td>\n",
       "    </tr>\n",
       "  </tbody>\n",
       "</table>\n",
       "</div>"
      ],
      "text/plain": [
       "        age       sex        cp  trestbps      chol       fbs   restecg  \\\n",
       "0 -0.268437  0.661504 -0.915755 -0.377636 -0.659332 -0.418878  0.891255   \n",
       "1 -0.158157  0.661504 -0.915755  0.479107 -0.833861  2.387330 -1.004049   \n",
       "2  1.716595  0.661504 -0.915755  0.764688 -1.396233 -0.418878  0.891255   \n",
       "3  0.724079  0.661504 -0.915755  0.936037 -0.833861 -0.418878  0.891255   \n",
       "4  0.834359 -1.511706 -0.915755  0.364875  0.930822  2.387330  0.891255   \n",
       "\n",
       "    thalach     exang   oldpeak     slope        ca      thal  \n",
       "0  0.821321 -0.712287 -0.060888  0.995433  1.209221  1.089852  \n",
       "1  0.255968  1.403928  1.727137 -2.243675 -0.731971  1.089852  \n",
       "2 -1.048692  1.403928  1.301417 -2.243675 -0.731971  1.089852  \n",
       "3  0.516900 -0.712287 -0.912329  0.995433  0.238625  1.089852  \n",
       "4 -1.874977 -0.712287  0.705408 -0.624121  2.179817 -0.522122  "
      ]
     },
     "execution_count": 45,
     "metadata": {},
     "output_type": "execute_result"
    }
   ],
   "source": [
    "Scaler = StandardScaler()\n",
    "X = Scaler.fit_transform(X_normal)\n",
    "X = pd.DataFrame(X, columns=X_normal.columns)\n",
    "X.head()"
   ]
  },
  {
   "cell_type": "code",
   "execution_count": 46,
   "id": "180464df",
   "metadata": {
    "papermill": {
     "duration": 0.030943,
     "end_time": "2023-05-21T14:08:34.362573",
     "exception": false,
     "start_time": "2023-05-21T14:08:34.331630",
     "status": "completed"
    },
    "tags": []
   },
   "outputs": [
    {
     "data": {
      "text/plain": [
       "target\n",
       "1    526\n",
       "0    499\n",
       "Name: count, dtype: int64"
      ]
     },
     "execution_count": 46,
     "metadata": {},
     "output_type": "execute_result"
    }
   ],
   "source": [
    "Y.value_counts()"
   ]
  },
  {
   "cell_type": "code",
   "execution_count": 47,
   "id": "77fbacdc",
   "metadata": {
    "papermill": {
     "duration": 0.029858,
     "end_time": "2023-05-21T14:08:34.410600",
     "exception": false,
     "start_time": "2023-05-21T14:08:34.380742",
     "status": "completed"
    },
    "tags": []
   },
   "outputs": [],
   "source": [
    "X_train, X_test, Y_train, Y_test = train_test_split(X, Y, test_size=0.2, random_state=42)"
   ]
  },
  {
   "cell_type": "markdown",
   "id": "b2af7c05",
   "metadata": {
    "papermill": {
     "duration": 0.018315,
     "end_time": "2023-05-21T14:08:44.494160",
     "exception": false,
     "start_time": "2023-05-21T14:08:44.475845",
     "status": "completed"
    },
    "tags": []
   },
   "source": [
    "<a id=\"section-four\"></a>\n",
    "<div style=\"padding:15px;color:white;\n",
    "            margin:0;font-size:300%;\n",
    "            text-align:left;display:fill;\n",
    "            border-radius:0px;background-color:#1167b1;\n",
    "            overflow:hidden;font-weight:600;\n",
    "            font-family: Trebuchet MS\">Model Training and Evaluation </div>"
   ]
  },
  {
   "cell_type": "markdown",
   "id": "55e9db6e",
   "metadata": {
    "papermill": {
     "duration": 0.018322,
     "end_time": "2023-05-21T14:08:44.531206",
     "exception": false,
     "start_time": "2023-05-21T14:08:44.512884",
     "status": "completed"
    },
    "tags": []
   },
   "source": [
    "<div style=\"padding:10px;color:black;\n",
    "            margin:0;font-size:120%;\n",
    "            text-align:justify;display:fill;\n",
    "            border-radius:0px;background-color:#f2f2f2;\n",
    "            overflow:hidden; font-weight:400; font-family: Trebuchet MS\"> 1- Logistic Regression </div>"
   ]
  },
  {
   "cell_type": "code",
   "execution_count": 51,
   "id": "99f3f9e3",
   "metadata": {
    "papermill": {
     "duration": 0.323101,
     "end_time": "2023-05-21T14:08:44.873005",
     "exception": false,
     "start_time": "2023-05-21T14:08:44.549904",
     "status": "completed"
    },
    "tags": []
   },
   "outputs": [
    {
     "name": "stdout",
     "output_type": "stream",
     "text": [
      "Accuracy of Logistic Regression: 79.51219512195122 %\n"
     ]
    },
    {
     "data": {
      "image/png": "[encoded data removed]",
      "text/plain": [
       "<Figure size 640x480 with 2 Axes>"
      ]
     },
     "metadata": {},
     "output_type": "display_data"
    }
   ],
   "source": [
    "#model_1 = \"Logistic Regression\"\n",
    "LR = LogisticRegression()\n",
    "model = LR.fit(X_train, Y_train)\n",
    "LR_predict = LR.predict(X_test)\n",
    "LR_acc_score = accuracy_score(Y_test, LR_predict)\n",
    "print(\"Accuracy of Logistic Regression:\",LR_acc_score*100,'%')\n",
    "\n",
    "# Generate the confusion matrix\n",
    "LR_cm = confusion_matrix(Y_test, LR_predict)\n",
    "\n",
    "# Create a heatmap using seaborn\n",
    "sns.heatmap(LR_cm, annot=True, fmt='d', cmap='coolwarm')\n",
    "\n",
    "# Add labels to the plot\n",
    "plt.title('Confusion Matrix')\n",
    "plt.xlabel('Predicted Label')\n",
    "plt.ylabel('True Label')\n",
    "\n",
    "# Show the plot\n",
    "plt.show()"
   ]
  },
  {
   "cell_type": "markdown",
   "id": "790dd305",
   "metadata": {
    "papermill": {
     "duration": 0.019166,
     "end_time": "2023-05-21T14:08:44.911581",
     "exception": false,
     "start_time": "2023-05-21T14:08:44.892415",
     "status": "completed"
    },
    "tags": []
   },
   "source": [
    "<div style=\"padding:10px;color:black;\n",
    "            margin:0;font-size:120%;\n",
    "            text-align:justify;display:fill;\n",
    "            border-radius:0px;background-color:#f2f2f2;\n",
    "            overflow:hidden; font-weight:400; font-family: Trebuchet MS\"> 2- Decision Tree Classifier </div>"
   ]
  },
  {
   "cell_type": "code",
   "execution_count": 53,
   "id": "cd5f8c8b",
   "metadata": {
    "papermill": {
     "duration": 0.311907,
     "end_time": "2023-05-21T14:08:45.242568",
     "exception": false,
     "start_time": "2023-05-21T14:08:44.930661",
     "status": "completed"
    },
    "tags": []
   },
   "outputs": [
    {
     "name": "stdout",
     "output_type": "stream",
     "text": [
      "Accuracy of DecisionTreeClassifier: 79.02439024390245\n"
     ]
    },
    {
     "data": {
      "image/png": "[encoded data removed]",
      "text/plain": [
       "<Figure size 640x480 with 2 Axes>"
      ]
     },
     "metadata": {},
     "output_type": "display_data"
    }
   ],
   "source": [
    "#model_2 = \"Decision Tree Classifier\"\n",
    "DT = DecisionTreeClassifier(criterion = 'entropy',random_state=0,max_depth = 4)\n",
    "model = DT.fit(X_train, Y_train)\n",
    "DT_predict = DT.predict(X_test)\n",
    "\n",
    "\n",
    "DT_acc_score = accuracy_score(Y_test, DT_predict)\n",
    "print(\"Accuracy of DecisionTreeClassifier:\",DT_acc_score*100)\n",
    "\n",
    "# Generate the confusion matrix\n",
    "DT_cm = confusion_matrix(Y_test, DT_predict)\n",
    "\n",
    "# Create a heatmap using seaborn\n",
    "sns.heatmap(DT_cm, annot=True, fmt='d', cmap='coolwarm')\n",
    "\n",
    "# Add labels to the plot\n",
    "plt.title('Confusion Matrix')\n",
    "plt.xlabel('Predicted Label')\n",
    "plt.ylabel('True Label')\n",
    "\n",
    "# Show the plot\n",
    "plt.show()"
   ]
  },
  {
   "cell_type": "markdown",
   "id": "f2534f54",
   "metadata": {
    "papermill": {
     "duration": 0.019126,
     "end_time": "2023-05-21T14:08:45.281310",
     "exception": false,
     "start_time": "2023-05-21T14:08:45.262184",
     "status": "completed"
    },
    "tags": []
   },
   "source": [
    "<div style=\"padding:10px;color:black;\n",
    "            margin:0;font-size:120%;\n",
    "            text-align:justify;display:fill;\n",
    "            border-radius:0px;background-color:#f2f2f2;\n",
    "            overflow:hidden; font-weight:400; font-family: Trebuchet MS\"> 3- Random Forest Classfier </div>"
   ]
  },
  {
   "cell_type": "code",
   "execution_count": 55,
   "id": "62dbff98",
   "metadata": {
    "papermill": {
     "duration": 0.360922,
     "end_time": "2023-05-21T14:08:45.661779",
     "exception": false,
     "start_time": "2023-05-21T14:08:45.300857",
     "status": "completed"
    },
    "tags": []
   },
   "outputs": [
    {
     "name": "stdout",
     "output_type": "stream",
     "text": [
      "Accuracy of Random Forest: 88.29268292682927\n"
     ]
    },
    {
     "data": {
      "image/png": "[encoded data removed]",
      "text/plain": [
       "<Figure size 640x480 with 2 Axes>"
      ]
     },
     "metadata": {},
     "output_type": "display_data"
    }
   ],
   "source": [
    "#model_3 = \"Random Forest Classfier\"\n",
    "RF = RandomForestClassifier(n_estimators=20, random_state=12,max_depth=5)\n",
    "RF.fit(X_train,Y_train)\n",
    "RF_predict = RF.predict(X_test)\n",
    "RF_acc_score = accuracy_score(Y_test, RF_predict)\n",
    "print(\"Accuracy of Random Forest:\",RF_acc_score*100)\n",
    "\n",
    "# Generate the confusion matrix\n",
    "RF_cm = confusion_matrix(Y_test, RF_predict)\n",
    "\n",
    "# Create a heatmap using seaborn\n",
    "sns.heatmap(RF_cm, annot=True, fmt='d', cmap='coolwarm')\n",
    "\n",
    "# Add labels to the plot\n",
    "plt.title('Confusion Matrix')\n",
    "plt.xlabel('Predicted Label')\n",
    "plt.ylabel('True Label')\n",
    "\n",
    "# Show the plot\n",
    "plt.show()"
   ]
  },
  {
   "cell_type": "markdown",
   "id": "c512aa6e",
   "metadata": {
    "papermill": {
     "duration": 0.019465,
     "end_time": "2023-05-21T14:08:45.701171",
     "exception": false,
     "start_time": "2023-05-21T14:08:45.681706",
     "status": "completed"
    },
    "tags": []
   },
   "source": [
    "<div style=\"padding:10px;color:black;\n",
    "            margin:0;font-size:120%;\n",
    "            text-align:justify;display:fill;\n",
    "            border-radius:0px;background-color:#f2f2f2;\n",
    "            overflow:hidden; font-weight:400; font-family: Trebuchet MS\"> 4- K-Neighbors Classifier </div>"
   ]
  },
  {
   "cell_type": "code",
   "execution_count": 57,
   "id": "712ef8a6",
   "metadata": {
    "papermill": {
     "duration": 0.309891,
     "end_time": "2023-05-21T14:08:46.030867",
     "exception": false,
     "start_time": "2023-05-21T14:08:45.720976",
     "status": "completed"
    },
    "tags": []
   },
   "outputs": [
    {
     "name": "stdout",
     "output_type": "stream",
     "text": [
      "Accuracy of K-NeighborsClassifier: 83.90243902439025 \n",
      "\n"
     ]
    },
    {
     "data": {
      "image/png": "[encoded data removed]",
      "text/plain": [
       "<Figure size 640x480 with 2 Axes>"
      ]
     },
     "metadata": {},
     "output_type": "display_data"
    }
   ],
   "source": [
    "#model_4 = \"K-NeighborsClassifier\"\n",
    "KNN = KNeighborsClassifier(n_neighbors=10)\n",
    "KNN.fit(X_train, Y_train)\n",
    "KNN_predict = KNN.predict(X_test)\n",
    "KNN_acc_score = accuracy_score(Y_test, KNN_predict)\n",
    "print(\"Accuracy of K-NeighborsClassifier:\",KNN_acc_score*100,'\\n')\n",
    "\n",
    "# Generate the confusion matrix\n",
    "RF_cm = confusion_matrix(Y_test, RF_predict)\n",
    "\n",
    "# Create a heatmap using seaborn\n",
    "sns.heatmap(RF_cm, annot=True, fmt='d', cmap='coolwarm')\n",
    "\n",
    "# Add labels to the plot\n",
    "plt.title('Confusion Matrix')\n",
    "plt.xlabel('Predicted Label')\n",
    "plt.ylabel('True Label')\n",
    "\n",
    "# Show the plot\n",
    "plt.show()"
   ]
  },
  {
   "cell_type": "markdown",
   "id": "9f0d6d52",
   "metadata": {
    "papermill": {
     "duration": 0.019817,
     "end_time": "2023-05-21T14:08:46.070956",
     "exception": false,
     "start_time": "2023-05-21T14:08:46.051139",
     "status": "completed"
    },
    "tags": []
   },
   "source": [
    "<div style=\"padding:10px;color:black;\n",
    "            margin:0;font-size:120%;\n",
    "            text-align:justify;display:fill;\n",
    "            border-radius:0px;background-color:#f2f2f2;\n",
    "            overflow:hidden; font-weight:400; font-family: Trebuchet MS\"> 5- Support Vector Classifier </div>"
   ]
  },
  {
   "cell_type": "code",
   "execution_count": 59,
   "id": "491e5d9c",
   "metadata": {
    "papermill": {
     "duration": 0.308625,
     "end_time": "2023-05-21T14:08:46.399702",
     "exception": false,
     "start_time": "2023-05-21T14:08:46.091077",
     "status": "completed"
    },
    "tags": []
   },
   "outputs": [
    {
     "name": "stdout",
     "output_type": "stream",
     "text": [
      "Accuracy of Support Vector Classifier: 92.19512195121952\n"
     ]
    },
    {
     "data": {
      "image/png": "[encoded data removed]",
      "text/plain": [
       "<Figure size 640x480 with 2 Axes>"
      ]
     },
     "metadata": {},
     "output_type": "display_data"
    }
   ],
   "source": [
    "#model_5 = \"Support Vector Classifier\"\n",
    "SVM = SVC(kernel='rbf', C=2)\n",
    "SVM.fit(X_train, Y_train)\n",
    "SVM_predict = SVM.predict(X_test)\n",
    "SVM_acc_score = accuracy_score(Y_test, SVM_predict)\n",
    "print(\"Accuracy of Support Vector Classifier:\",SVM_acc_score*100)\n",
    "\n",
    "# Generate the confusion matrix\n",
    "SVM_cm = confusion_matrix(Y_test, SVM_predict)\n",
    "\n",
    "# Create a heatmap using seaborn\n",
    "sns.heatmap(SVM_cm, annot=True, fmt='d', cmap='coolwarm')\n",
    "\n",
    "# Add labels to the plot\n",
    "plt.title('Confusion Matrix')\n",
    "plt.xlabel('Predicted Label')\n",
    "plt.ylabel('True Label')\n",
    "\n",
    "# Show the plot\n",
    "plt.show()"
   ]
  },
  {
   "cell_type": "markdown",
   "id": "2beed5d5",
   "metadata": {
    "papermill": {
     "duration": 0.020248,
     "end_time": "2023-05-21T14:08:46.440789",
     "exception": false,
     "start_time": "2023-05-21T14:08:46.420541",
     "status": "completed"
    },
    "tags": []
   },
   "source": [
    "<div style=\"padding:10px;color:black;\n",
    "            margin:0;font-size:120%;\n",
    "            text-align:justify;display:fill;\n",
    "            border-radius:0px;background-color:#f2f2f2;\n",
    "            overflow:hidden; font-weight:400; font-family: Trebuchet MS\"> 6- Naive Bayes Classifier </div>"
   ]
  },
  {
   "cell_type": "code",
   "execution_count": 61,
   "id": "23255def",
   "metadata": {
    "papermill": {
     "duration": 0.306595,
     "end_time": "2023-05-21T14:08:46.767878",
     "exception": false,
     "start_time": "2023-05-21T14:08:46.461283",
     "status": "completed"
    },
    "tags": []
   },
   "outputs": [
    {
     "name": "stdout",
     "output_type": "stream",
     "text": [
      "Accuracy of Naive Bayes model: 80.0\n"
     ]
    },
    {
     "data": {
      "image/png": "[encoded data removed]",
      "text/plain": [
       "<Figure size 640x480 with 2 Axes>"
      ]
     },
     "metadata": {},
     "output_type": "display_data"
    }
   ],
   "source": [
    "#model_6 = \"Naive Bayes\"\n",
    "NB = GaussianNB()\n",
    "NB.fit(X_train,Y_train)\n",
    "NB_predict = NB.predict(X_test)\n",
    "NB_acc_score = accuracy_score(Y_test, NB_predict)\n",
    "print(\"Accuracy of Naive Bayes model:\",NB_acc_score*100)\n",
    "\n",
    "# Generate the confusion matrix\n",
    "NB_cm = confusion_matrix(Y_test, NB_predict)\n",
    "\n",
    "# Create a heatmap using seaborn\n",
    "sns.heatmap(NB_cm, annot=True, fmt='d', cmap='coolwarm')\n",
    "\n",
    "# Add labels to the plot\n",
    "plt.title('Confusion Matrix')\n",
    "plt.xlabel('Predicted Label')\n",
    "plt.ylabel('True Label')\n",
    "\n",
    "# Show the plot\n",
    "plt.show()"
   ]
  },
  {
   "cell_type": "code",
   "execution_count": 105,
   "id": "765af8cf",
   "metadata": {
    "papermill": {
     "duration": 0.121266,
     "end_time": "2023-05-21T14:08:48.789974",
     "exception": false,
     "start_time": "2023-05-21T14:08:48.668708",
     "status": "completed"
    },
    "tags": []
   },
   "outputs": [
    {
     "data": {
      "text/html": [
       "<style type=\"text/css\">\n",
       "#T_f8c6d_row0_col0, #T_f8c6d_row0_col1, #T_f8c6d_row1_col0, #T_f8c6d_row1_col1, #T_f8c6d_row2_col0, #T_f8c6d_row2_col1, #T_f8c6d_row3_col0, #T_f8c6d_row3_col1, #T_f8c6d_row4_col0, #T_f8c6d_row5_col0, #T_f8c6d_row5_col1 {\n",
       "  font-family: Segoe UI;\n",
       "}\n",
       "#T_f8c6d_row4_col1 {\n",
       "  background-color: lightgreen;\n",
       "  font-family: Segoe UI;\n",
       "}\n",
       "</style>\n",
       "<table id=\"T_f8c6d\">\n",
       "  <thead>\n",
       "    <tr>\n",
       "      <th id=\"T_f8c6d_level0_col0\" class=\"col_heading level0 col0\" >Model</th>\n",
       "      <th id=\"T_f8c6d_level0_col1\" class=\"col_heading level0 col1\" >Accuracy</th>\n",
       "    </tr>\n",
       "  </thead>\n",
       "  <tbody>\n",
       "    <tr>\n",
       "      <td id=\"T_f8c6d_row0_col0\" class=\"data row0 col0\" >Logistic Regression</td>\n",
       "      <td id=\"T_f8c6d_row0_col1\" class=\"data row0 col1\" >79.512195</td>\n",
       "    </tr>\n",
       "    <tr>\n",
       "      <td id=\"T_f8c6d_row1_col0\" class=\"data row1 col0\" >Decision Tree</td>\n",
       "      <td id=\"T_f8c6d_row1_col1\" class=\"data row1 col1\" >79.024390</td>\n",
       "    </tr>\n",
       "    <tr>\n",
       "      <td id=\"T_f8c6d_row2_col0\" class=\"data row2 col0\" >Random Forest</td>\n",
       "      <td id=\"T_f8c6d_row2_col1\" class=\"data row2 col1\" >88.292683</td>\n",
       "    </tr>\n",
       "    <tr>\n",
       "      <td id=\"T_f8c6d_row3_col0\" class=\"data row3 col0\" >K-Nearest Neighbour</td>\n",
       "      <td id=\"T_f8c6d_row3_col1\" class=\"data row3 col1\" >83.902439</td>\n",
       "    </tr>\n",
       "    <tr>\n",
       "      <td id=\"T_f8c6d_row4_col0\" class=\"data row4 col0\" >Support Vector Machine</td>\n",
       "      <td id=\"T_f8c6d_row4_col1\" class=\"data row4 col1\" >92.195122</td>\n",
       "    </tr>\n",
       "    <tr>\n",
       "      <td id=\"T_f8c6d_row5_col0\" class=\"data row5 col0\" >Gaussian Naive Bayes</td>\n",
       "      <td id=\"T_f8c6d_row5_col1\" class=\"data row5 col1\" >80.000000</td>\n",
       "    </tr>\n",
       "  </tbody>\n",
       "</table>\n"
      ],
      "text/plain": [
       "<pandas.io.formats.style.Styler at 0x2629ff3c7a0>"
      ]
     },
     "execution_count": 105,
     "metadata": {},
     "output_type": "execute_result"
    }
   ],
   "source": [
    "comparison = pd.DataFrame({'Model': ['Logistic Regression', 'Decision Tree', 'Random Forest', 'K-Nearest Neighbour', \n",
    "                                     'Support Vector Machine', 'Gaussian Naive Bayes'], \n",
    "                        'Accuracy': [LR_acc_score*100, DT_acc_score*100, RF_acc_score*100, KNN_acc_score*100, SVM_acc_score*100,\n",
    "                                     NB_acc_score*100]})\n",
    "\n",
    "max_accuracy = comparison['Accuracy'].max()\n",
    "\n",
    "styled_compare = comparison.style.applymap(lambda x: 'background-color: lightgreen' if x == max_accuracy else '', subset=['Accuracy'])\n",
    "styled_compare.set_properties(**{'font-family': 'Segoe UI'}).hide(axis='index')"
   ]
  },
  {
   "cell_type": "code",
   "execution_count": 128,
   "id": "94d52cba",
   "metadata": {
    "papermill": {
     "duration": 0.443589,
     "end_time": "2023-05-21T14:08:49.256935",
     "exception": false,
     "start_time": "2023-05-21T14:08:48.813346",
     "status": "completed"
    },
    "tags": []
   },
   "outputs": [
    {
     "data": {
      "image/png": "[encoded data removed]",
      "text/plain": [
       "<Figure size 1800x500 with 1 Axes>"
      ]
     },
     "metadata": {},
     "output_type": "display_data"
    }
   ],
   "source": [
    "# Create a bar plot with seaborn\n",
    "plt.figure(figsize=(18,5))\n",
    "sns.set(style='whitegrid')\n",
    "ax = sns.barplot(x='Accuracy', y='Model', data=comparison, color='r')\n",
    "\n",
    "# Add horizontal grid lines\n",
    "sns.despine(left=True)\n",
    "\n",
    "# Add labels to the plot\n",
    "plt.title('Model Comparison', fontsize=16)\n",
    "plt.xlabel('Accuracy (%)', fontsize=14)\n",
    "\n",
    "# Show the plot\n",
    "plt.show()"
   ]
  },
  {
   "cell_type": "markdown",
   "id": "66072d2f",
   "metadata": {
    "papermill": {
     "duration": 0.023626,
     "end_time": "2023-05-21T14:08:49.304412",
     "exception": false,
     "start_time": "2023-05-21T14:08:49.280786",
     "status": "completed"
    },
    "tags": []
   },
   "source": [
    "<div style=\"padding:10px;color:black;\n",
    "            margin:0;font-size:120%;\n",
    "            text-align:justify;display:fill;\n",
    "            border-radius:0px;background-color:#f2f2f2;\n",
    "            overflow:hidden; font-weight:600; font-family: Trebuchet MS\"> <b>The best Model : Support Vector Machine</b>"
   ]
  }
 ],
 "metadata": {
  "kernelspec": {
   "display_name": "Python 3 (ipykernel)",
   "language": "python",
   "name": "python3"
  },
  "language_info": {
   "codemirror_mode": {
    "name": "ipython",
    "version": 3
   },
   "file_extension": ".py",
   "mimetype": "text/x-python",
   "name": "python",
   "nbconvert_exporter": "python",
   "pygments_lexer": "ipython3",
   "version": "3.12.4"
  },
  "papermill": {
   "default_parameters": {},
   "duration": 70.04613,
   "end_time": "2023-05-21T14:08:50.955044",
   "environment_variables": {},
   "exception": null,
   "input_path": "__notebook__.ipynb",
   "output_path": "__notebook__.ipynb",
   "parameters": {},
   "start_time": "2023-05-21T14:07:40.908914",
   "version": "2.4.0"
  },
  "widgets": {
   "application/vnd.jupyter.widget-state+json": {
    "state": {
     "0a416845b5ca4e43b29f7ca9c2b2906a": {
      "model_module": "@jupyter-widgets/base",
      "model_module_version": "1.2.0",
      "model_name": "LayoutModel",
      "state": {
       "_model_module": "@jupyter-widgets/base",
       "_model_module_version": "1.2.0",
       "_model_name": "LayoutModel",
       "_view_count": null,
       "_view_module": "@jupyter-widgets/base",
       "_view_module_version": "1.2.0",
       "_view_name": "LayoutView",
       "align_content": null,
       "align_items": null,
       "align_self": null,
       "border": null,
       "bottom": null,
       "display": "inline-flex",
       "flex": null,
       "flex_flow": "row wrap",
       "grid_area": null,
       "grid_auto_columns": null,
       "grid_auto_flow": null,
       "grid_auto_rows": null,
       "grid_column": null,
       "grid_gap": null,
       "grid_row": null,
       "grid_template_areas": null,
       "grid_template_columns": null,
       "grid_template_rows": null,
       "height": null,
       "justify_content": null,
       "justify_items": null,
       "left": null,
       "margin": null,
       "max_height": null,
       "max_width": null,
       "min_height": null,
       "min_width": null,
       "object_fit": null,
       "object_position": null,
       "order": null,
       "overflow": null,
       "overflow_x": null,
       "overflow_y": null,
       "padding": null,
       "right": null,
       "top": null,
       "visibility": null,
       "width": "100%"
      }
     },
     "0d232338633e4492b1535672de4f3476": {
      "model_module": "@jupyter-widgets/base",
      "model_module_version": "1.2.0",
      "model_name": "LayoutModel",
      "state": {
       "_model_module": "@jupyter-widgets/base",
       "_model_module_version": "1.2.0",
       "_model_name": "LayoutModel",
       "_view_count": null,
       "_view_module": "@jupyter-widgets/base",
       "_view_module_version": "1.2.0",
       "_view_name": "LayoutView",
       "align_content": null,
       "align_items": null,
       "align_self": null,
       "border": null,
       "bottom": null,
       "display": null,
       "flex": null,
       "flex_flow": null,
       "grid_area": null,
       "grid_auto_columns": null,
       "grid_auto_flow": null,
       "grid_auto_rows": null,
       "grid_column": null,
       "grid_gap": null,
       "grid_row": null,
       "grid_template_areas": null,
       "grid_template_columns": null,
       "grid_template_rows": null,
       "height": null,
       "justify_content": null,
       "justify_items": null,
       "left": null,
       "margin": null,
       "max_height": null,
       "max_width": null,
       "min_height": null,
       "min_width": null,
       "object_fit": null,
       "object_position": null,
       "order": null,
       "overflow": null,
       "overflow_x": null,
       "overflow_y": null,
       "padding": null,
       "right": null,
       "top": null,
       "visibility": null,
       "width": null
      }
     },
     "3a9f953c3a6b4b37991b5742bf91c401": {
      "model_module": "@jupyter-widgets/controls",
      "model_module_version": "1.5.0",
      "model_name": "HTMLModel",
      "state": {
       "_dom_classes": [],
       "_model_module": "@jupyter-widgets/controls",
       "_model_module_version": "1.5.0",
       "_model_name": "HTMLModel",
       "_view_count": null,
       "_view_module": "@jupyter-widgets/controls",
       "_view_module_version": "1.5.0",
       "_view_name": "HTMLView",
       "description": "",
       "description_tooltip": null,
       "layout": "IPY_MODEL_a07e2a324e734d23ac5f2ad058e185dc",
       "placeholder": "​",
       "style": "IPY_MODEL_3bf21558bc91485c81f17daa21c14578",
       "value": " [100%]   00:01 -&gt; (00:00 left)"
      }
     },
     "3bf21558bc91485c81f17daa21c14578": {
      "model_module": "@jupyter-widgets/controls",
      "model_module_version": "1.5.0",
      "model_name": "DescriptionStyleModel",
      "state": {
       "_model_module": "@jupyter-widgets/controls",
       "_model_module_version": "1.5.0",
       "_model_name": "DescriptionStyleModel",
       "_view_count": null,
       "_view_module": "@jupyter-widgets/base",
       "_view_module_version": "1.2.0",
       "_view_name": "StyleView",
       "description_width": ""
      }
     },
     "410674cfd4274cd8989ed46653e9eff9": {
      "model_module": "@jupyter-widgets/controls",
      "model_module_version": "1.5.0",
      "model_name": "HBoxModel",
      "state": {
       "_dom_classes": [],
       "_model_module": "@jupyter-widgets/controls",
       "_model_module_version": "1.5.0",
       "_model_name": "HBoxModel",
       "_view_count": null,
       "_view_module": "@jupyter-widgets/controls",
       "_view_module_version": "1.5.0",
       "_view_name": "HBoxView",
       "box_style": "",
       "children": [
        "IPY_MODEL_a69abeb1a05340dc859a45e8e9e89e2c",
        "IPY_MODEL_7ff9ddbb28cf48b7ae5900190e799336",
        "IPY_MODEL_6a9df8b0fe0e43e5badf8e0d0130de81"
       ],
       "layout": "IPY_MODEL_ac8eff0fd126460b98fd8a46f6337edb"
      }
     },
     "619aee5ff819457887128ec19550d205": {
      "model_module": "@jupyter-widgets/controls",
      "model_module_version": "1.5.0",
      "model_name": "FloatProgressModel",
      "state": {
       "_dom_classes": [],
       "_model_module": "@jupyter-widgets/controls",
       "_model_module_version": "1.5.0",
       "_model_name": "FloatProgressModel",
       "_view_count": null,
       "_view_module": "@jupyter-widgets/controls",
       "_view_module_version": "1.5.0",
       "_view_name": "ProgressView",
       "bar_style": "success",
       "description": "",
       "description_tooltip": null,
       "layout": "IPY_MODEL_d86c5b81cfec49e5b10f0084683b53aa",
       "max": 1,
       "min": 0,
       "orientation": "horizontal",
       "style": "IPY_MODEL_d25a99df06874a4387614a8484c470c7",
       "value": 1
      }
     },
     "6798ca8bc3ae4fe396bfa7fc9d8a3a72": {
      "model_module": "@jupyter-widgets/controls",
      "model_module_version": "1.5.0",
      "model_name": "DescriptionStyleModel",
      "state": {
       "_model_module": "@jupyter-widgets/controls",
       "_model_module_version": "1.5.0",
       "_model_name": "DescriptionStyleModel",
       "_view_count": null,
       "_view_module": "@jupyter-widgets/base",
       "_view_module_version": "1.2.0",
       "_view_name": "StyleView",
       "description_width": ""
      }
     },
     "6a9df8b0fe0e43e5badf8e0d0130de81": {
      "model_module": "@jupyter-widgets/controls",
      "model_module_version": "1.5.0",
      "model_name": "HTMLModel",
      "state": {
       "_dom_classes": [],
       "_model_module": "@jupyter-widgets/controls",
       "_model_module_version": "1.5.0",
       "_model_name": "HTMLModel",
       "_view_count": null,
       "_view_module": "@jupyter-widgets/controls",
       "_view_module_version": "1.5.0",
       "_view_name": "HTMLView",
       "description": "",
       "description_tooltip": null,
       "layout": "IPY_MODEL_e8312293325c4bd49152e5132cd17bcb",
       "placeholder": "​",
       "style": "IPY_MODEL_6798ca8bc3ae4fe396bfa7fc9d8a3a72",
       "value": " [100%]   00:02 -&gt; (00:00 left)"
      }
     },
     "7ff9ddbb28cf48b7ae5900190e799336": {
      "model_module": "@jupyter-widgets/controls",
      "model_module_version": "1.5.0",
      "model_name": "FloatProgressModel",
      "state": {
       "_dom_classes": [],
       "_model_module": "@jupyter-widgets/controls",
       "_model_module_version": "1.5.0",
       "_model_name": "FloatProgressModel",
       "_view_count": null,
       "_view_module": "@jupyter-widgets/controls",
       "_view_module_version": "1.5.0",
       "_view_name": "ProgressView",
       "bar_style": "success",
       "description": "",
       "description_tooltip": null,
       "layout": "IPY_MODEL_f105ae1f4c7e4feea2c5fc9fd40b3f6f",
       "max": 1,
       "min": 0,
       "orientation": "horizontal",
       "style": "IPY_MODEL_ef47b83f812042c0933e0e18f51aac65",
       "value": 1
      }
     },
     "82a241c151fe4ef386e609cc543844f2": {
      "model_module": "@jupyter-widgets/controls",
      "model_module_version": "1.5.0",
      "model_name": "DescriptionStyleModel",
      "state": {
       "_model_module": "@jupyter-widgets/controls",
       "_model_module_version": "1.5.0",
       "_model_name": "DescriptionStyleModel",
       "_view_count": null,
       "_view_module": "@jupyter-widgets/base",
       "_view_module_version": "1.2.0",
       "_view_name": "StyleView",
       "description_width": ""
      }
     },
     "8c7dc0bbfc5a4a90b1bae62cccf6b27b": {
      "model_module": "@jupyter-widgets/controls",
      "model_module_version": "1.5.0",
      "model_name": "HTMLModel",
      "state": {
       "_dom_classes": [],
       "_model_module": "@jupyter-widgets/controls",
       "_model_module_version": "1.5.0",
       "_model_name": "HTMLModel",
       "_view_count": null,
       "_view_module": "@jupyter-widgets/controls",
       "_view_module_version": "1.5.0",
       "_view_name": "HTMLView",
       "description": "",
       "description_tooltip": null,
       "layout": "IPY_MODEL_e07860e478744777be2155045dc5a73c",
       "placeholder": "​",
       "style": "IPY_MODEL_82a241c151fe4ef386e609cc543844f2",
       "value": "Done! Use &#x27;show&#x27; commands to display/save.   "
      }
     },
     "a07e2a324e734d23ac5f2ad058e185dc": {
      "model_module": "@jupyter-widgets/base",
      "model_module_version": "1.2.0",
      "model_name": "LayoutModel",
      "state": {
       "_model_module": "@jupyter-widgets/base",
       "_model_module_version": "1.2.0",
       "_model_name": "LayoutModel",
       "_view_count": null,
       "_view_module": "@jupyter-widgets/base",
       "_view_module_version": "1.2.0",
       "_view_name": "LayoutView",
       "align_content": null,
       "align_items": null,
       "align_self": null,
       "border": null,
       "bottom": null,
       "display": null,
       "flex": null,
       "flex_flow": null,
       "grid_area": null,
       "grid_auto_columns": null,
       "grid_auto_flow": null,
       "grid_auto_rows": null,
       "grid_column": null,
       "grid_gap": null,
       "grid_row": null,
       "grid_template_areas": null,
       "grid_template_columns": null,
       "grid_template_rows": null,
       "height": null,
       "justify_content": null,
       "justify_items": null,
       "left": null,
       "margin": null,
       "max_height": null,
       "max_width": null,
       "min_height": null,
       "min_width": null,
       "object_fit": null,
       "object_position": null,
       "order": null,
       "overflow": null,
       "overflow_x": null,
       "overflow_y": null,
       "padding": null,
       "right": null,
       "top": null,
       "visibility": null,
       "width": null
      }
     },
     "a69abeb1a05340dc859a45e8e9e89e2c": {
      "model_module": "@jupyter-widgets/controls",
      "model_module_version": "1.5.0",
      "model_name": "HTMLModel",
      "state": {
       "_dom_classes": [],
       "_model_module": "@jupyter-widgets/controls",
       "_model_module_version": "1.5.0",
       "_model_name": "HTMLModel",
       "_view_count": null,
       "_view_module": "@jupyter-widgets/controls",
       "_view_module_version": "1.5.0",
       "_view_name": "HTMLView",
       "description": "",
       "description_tooltip": null,
       "layout": "IPY_MODEL_0d232338633e4492b1535672de4f3476",
       "placeholder": "​",
       "style": "IPY_MODEL_d5e0d7c78888454798ac1c816e4fbc39",
       "value": "Done! Use &#x27;show&#x27; commands to display/save.   "
      }
     },
     "ac8eff0fd126460b98fd8a46f6337edb": {
      "model_module": "@jupyter-widgets/base",
      "model_module_version": "1.2.0",
      "model_name": "LayoutModel",
      "state": {
       "_model_module": "@jupyter-widgets/base",
       "_model_module_version": "1.2.0",
       "_model_name": "LayoutModel",
       "_view_count": null,
       "_view_module": "@jupyter-widgets/base",
       "_view_module_version": "1.2.0",
       "_view_name": "LayoutView",
       "align_content": null,
       "align_items": null,
       "align_self": null,
       "border": null,
       "bottom": null,
       "display": "inline-flex",
       "flex": null,
       "flex_flow": "row wrap",
       "grid_area": null,
       "grid_auto_columns": null,
       "grid_auto_flow": null,
       "grid_auto_rows": null,
       "grid_column": null,
       "grid_gap": null,
       "grid_row": null,
       "grid_template_areas": null,
       "grid_template_columns": null,
       "grid_template_rows": null,
       "height": null,
       "justify_content": null,
       "justify_items": null,
       "left": null,
       "margin": null,
       "max_height": null,
       "max_width": null,
       "min_height": null,
       "min_width": null,
       "object_fit": null,
       "object_position": null,
       "order": null,
       "overflow": null,
       "overflow_x": null,
       "overflow_y": null,
       "padding": null,
       "right": null,
       "top": null,
       "visibility": null,
       "width": "100%"
      }
     },
     "b908549557704f428356567d5268e81f": {
      "model_module": "@jupyter-widgets/controls",
      "model_module_version": "1.5.0",
      "model_name": "HBoxModel",
      "state": {
       "_dom_classes": [],
       "_model_module": "@jupyter-widgets/controls",
       "_model_module_version": "1.5.0",
       "_model_name": "HBoxModel",
       "_view_count": null,
       "_view_module": "@jupyter-widgets/controls",
       "_view_module_version": "1.5.0",
       "_view_name": "HBoxView",
       "box_style": "",
       "children": [
        "IPY_MODEL_8c7dc0bbfc5a4a90b1bae62cccf6b27b",
        "IPY_MODEL_619aee5ff819457887128ec19550d205",
        "IPY_MODEL_3a9f953c3a6b4b37991b5742bf91c401"
       ],
       "layout": "IPY_MODEL_0a416845b5ca4e43b29f7ca9c2b2906a"
      }
     },
     "d25a99df06874a4387614a8484c470c7": {
      "model_module": "@jupyter-widgets/controls",
      "model_module_version": "1.5.0",
      "model_name": "ProgressStyleModel",
      "state": {
       "_model_module": "@jupyter-widgets/controls",
       "_model_module_version": "1.5.0",
       "_model_name": "ProgressStyleModel",
       "_view_count": null,
       "_view_module": "@jupyter-widgets/base",
       "_view_module_version": "1.2.0",
       "_view_name": "StyleView",
       "bar_color": null,
       "description_width": ""
      }
     },
     "d5e0d7c78888454798ac1c816e4fbc39": {
      "model_module": "@jupyter-widgets/controls",
      "model_module_version": "1.5.0",
      "model_name": "DescriptionStyleModel",
      "state": {
       "_model_module": "@jupyter-widgets/controls",
       "_model_module_version": "1.5.0",
       "_model_name": "DescriptionStyleModel",
       "_view_count": null,
       "_view_module": "@jupyter-widgets/base",
       "_view_module_version": "1.2.0",
       "_view_name": "StyleView",
       "description_width": ""
      }
     },
     "d86c5b81cfec49e5b10f0084683b53aa": {
      "model_module": "@jupyter-widgets/base",
      "model_module_version": "1.2.0",
      "model_name": "LayoutModel",
      "state": {
       "_model_module": "@jupyter-widgets/base",
       "_model_module_version": "1.2.0",
       "_model_name": "LayoutModel",
       "_view_count": null,
       "_view_module": "@jupyter-widgets/base",
       "_view_module_version": "1.2.0",
       "_view_name": "LayoutView",
       "align_content": null,
       "align_items": null,
       "align_self": null,
       "border": null,
       "bottom": null,
       "display": null,
       "flex": "2",
       "flex_flow": null,
       "grid_area": null,
       "grid_auto_columns": null,
       "grid_auto_flow": null,
       "grid_auto_rows": null,
       "grid_column": null,
       "grid_gap": null,
       "grid_row": null,
       "grid_template_areas": null,
       "grid_template_columns": null,
       "grid_template_rows": null,
       "height": null,
       "justify_content": null,
       "justify_items": null,
       "left": null,
       "margin": null,
       "max_height": null,
       "max_width": null,
       "min_height": null,
       "min_width": null,
       "object_fit": null,
       "object_position": null,
       "order": null,
       "overflow": null,
       "overflow_x": null,
       "overflow_y": null,
       "padding": null,
       "right": null,
       "top": null,
       "visibility": null,
       "width": null
      }
     },
     "e07860e478744777be2155045dc5a73c": {
      "model_module": "@jupyter-widgets/base",
      "model_module_version": "1.2.0",
      "model_name": "LayoutModel",
      "state": {
       "_model_module": "@jupyter-widgets/base",
       "_model_module_version": "1.2.0",
       "_model_name": "LayoutModel",
       "_view_count": null,
       "_view_module": "@jupyter-widgets/base",
       "_view_module_version": "1.2.0",
       "_view_name": "LayoutView",
       "align_content": null,
       "align_items": null,
       "align_self": null,
       "border": null,
       "bottom": null,
       "display": null,
       "flex": null,
       "flex_flow": null,
       "grid_area": null,
       "grid_auto_columns": null,
       "grid_auto_flow": null,
       "grid_auto_rows": null,
       "grid_column": null,
       "grid_gap": null,
       "grid_row": null,
       "grid_template_areas": null,
       "grid_template_columns": null,
       "grid_template_rows": null,
       "height": null,
       "justify_content": null,
       "justify_items": null,
       "left": null,
       "margin": null,
       "max_height": null,
       "max_width": null,
       "min_height": null,
       "min_width": null,
       "object_fit": null,
       "object_position": null,
       "order": null,
       "overflow": null,
       "overflow_x": null,
       "overflow_y": null,
       "padding": null,
       "right": null,
       "top": null,
       "visibility": null,
       "width": null
      }
     },
     "e8312293325c4bd49152e5132cd17bcb": {
      "model_module": "@jupyter-widgets/base",
      "model_module_version": "1.2.0",
      "model_name": "LayoutModel",
      "state": {
       "_model_module": "@jupyter-widgets/base",
       "_model_module_version": "1.2.0",
       "_model_name": "LayoutModel",
       "_view_count": null,
       "_view_module": "@jupyter-widgets/base",
       "_view_module_version": "1.2.0",
       "_view_name": "LayoutView",
       "align_content": null,
       "align_items": null,
       "align_self": null,
       "border": null,
       "bottom": null,
       "display": null,
       "flex": null,
       "flex_flow": null,
       "grid_area": null,
       "grid_auto_columns": null,
       "grid_auto_flow": null,
       "grid_auto_rows": null,
       "grid_column": null,
       "grid_gap": null,
       "grid_row": null,
       "grid_template_areas": null,
       "grid_template_columns": null,
       "grid_template_rows": null,
       "height": null,
       "justify_content": null,
       "justify_items": null,
       "left": null,
       "margin": null,
       "max_height": null,
       "max_width": null,
       "min_height": null,
       "min_width": null,
       "object_fit": null,
       "object_position": null,
       "order": null,
       "overflow": null,
       "overflow_x": null,
       "overflow_y": null,
       "padding": null,
       "right": null,
       "top": null,
       "visibility": null,
       "width": null
      }
     },
     "ef47b83f812042c0933e0e18f51aac65": {
      "model_module": "@jupyter-widgets/controls",
      "model_module_version": "1.5.0",
      "model_name": "ProgressStyleModel",
      "state": {
       "_model_module": "@jupyter-widgets/controls",
       "_model_module_version": "1.5.0",
       "_model_name": "ProgressStyleModel",
       "_view_count": null,
       "_view_module": "@jupyter-widgets/base",
       "_view_module_version": "1.2.0",
       "_view_name": "StyleView",
       "bar_color": null,
       "description_width": ""
      }
     },
     "f105ae1f4c7e4feea2c5fc9fd40b3f6f": {
      "model_module": "@jupyter-widgets/base",
      "model_module_version": "1.2.0",
      "model_name": "LayoutModel",
      "state": {
       "_model_module": "@jupyter-widgets/base",
       "_model_module_version": "1.2.0",
       "_model_name": "LayoutModel",
       "_view_count": null,
       "_view_module": "@jupyter-widgets/base",
       "_view_module_version": "1.2.0",
       "_view_name": "LayoutView",
       "align_content": null,
       "align_items": null,
       "align_self": null,
       "border": null,
       "bottom": null,
       "display": null,
       "flex": "2",
       "flex_flow": null,
       "grid_area": null,
       "grid_auto_columns": null,
       "grid_auto_flow": null,
       "grid_auto_rows": null,
       "grid_column": null,
       "grid_gap": null,
       "grid_row": null,
       "grid_template_areas": null,
       "grid_template_columns": null,
       "grid_template_rows": null,
       "height": null,
       "justify_content": null,
       "justify_items": null,
       "left": null,
       "margin": null,
       "max_height": null,
       "max_width": null,
       "min_height": null,
       "min_width": null,
       "object_fit": null,
       "object_position": null,
       "order": null,
       "overflow": null,
       "overflow_x": null,
       "overflow_y": null,
       "padding": null,
       "right": null,
       "top": null,
       "visibility": null,
       "width": null
      }
     }
    },
    "version_major": 2,
    "version_minor": 0
   }
  }
 },
 "nbformat": 4,
 "nbformat_minor": 5
}
